{
  "nbformat": 4,
  "nbformat_minor": 0,
  "metadata": {
    "colab": {
      "name": "Untitled2.ipynb",
      "provenance": [],
      "collapsed_sections": []
    },
    "kernelspec": {
      "name": "python3",
      "display_name": "Python 3"
    }
  },
  "cells": [
    {
      "cell_type": "markdown",
      "metadata": {
        "id": "Iweofpvq0IcX"
      },
      "source": [
        "## Модуль pprint"
      ]
    },
    {
      "cell_type": "markdown",
      "metadata": {
        "id": "RaghTgKE0rSH"
      },
      "source": [
        "Модуль pprint предлагает более тонкий контроль над выводом как встроенных, так и пользовательских объектов таким образом, что интерпретатор выводит их в более читаемом виде. Когда результат больше длины строки, то \"приятный вывод\" добавляет разрывы строк и отступы, чтобы более четко показать структуру данных:"
      ]
    },
    {
      "cell_type": "code",
      "metadata": {
        "colab": {
          "base_uri": "https://localhost:8080/"
        },
        "id": "qQkikOyy0HVV",
        "outputId": "1f9b8557-0ac0-4be8-83b6-bc838eba6f0a"
      },
      "source": [
        "import pprint\n",
        "t = [[[['black', 'cyan'], 'white', ['green', 'red']], [['magenta','yellow'], 'blue']]]\n",
        "pprint.pprint(t, width=30)"
      ],
      "execution_count": 3,
      "outputs": [
        {
          "output_type": "stream",
          "text": [
            "[[[['black', 'cyan'],\n",
            "   'white',\n",
            "   ['green', 'red']],\n",
            "  [['magenta', 'yellow'],\n",
            "   'blue']]]\n"
          ],
          "name": "stdout"
        }
      ]
    },
    {
      "cell_type": "markdown",
      "metadata": {
        "id": "1u0oAbDY3QeH"
      },
      "source": [
        "## Модуль copy"
      ]
    },
    {
      "cell_type": "markdown",
      "metadata": {
        "id": "JcHqsmMj3fnv"
      },
      "source": [
        "В Python изменяемые объекты нельзя скопировать, присвоив одну переменной другой, так как в этом случае копируется ссылка на объект, а не он сам. В итоге при изменении объекта через одну переменную, изменения видны через другую. Поэтому используются иные способы копирования, если оно действительно необходимо.\n",
        "\n",
        "У списков, словарей и некоторых других встроенных типов есть метод copy(), создающий их поверхностную копию. В случае поверхностной копии, если объект является составным, то есть включает другие изменяемые объекты, то они не копируются, а копируются только ссылки на них.\n",
        "\n",
        "Если же требуется полная копия объекта, следует воспользоваться функцией deepcopy() модуля copy. Кроме этой функции там также есть функция copy(), выполняющая поверхностное копирование, аналогичное методам copy() словарей и списков."
      ]
    },
    {
      "cell_type": "code",
      "metadata": {
        "colab": {
          "base_uri": "https://localhost:8080/"
        },
        "id": "gFQB3h_j0Kgt",
        "outputId": "ff884f65-59e1-454e-b2c8-64a76834a981"
      },
      "source": [
        "import copy\n",
        ">>> nums = [1, 2, 3]\n",
        ">>> data = {'a': 10, 'b': nums}\n",
        ">>> data\n",
        "{'a': 10, 'b': [1, 2, 3]}\n",
        ">>> data_copy = copy.copy(data)\n",
        ">>> data_deep = copy.deepcopy(data)\n",
        ">>> data_copy\n",
        "{'a': 10, 'b': [1, 2, 3]}\n",
        ">>> data_deep\n",
        "{'a': 10, 'b': [1, 2, 3]}\n",
        ">>> data_copy['a'] += 2\n",
        ">>> nums[1:1] = [254]\n",
        ">>> data\n",
        "{'a': 10, 'b': [1, 254, 2, 3]}\n",
        ">>> data_copy\n",
        "{'a': 12, 'b': [1, 254, 2, 3]}\n",
        ">>> data_deep\n",
        "{'a': 10, 'b': [1, 2, 3]}"
      ],
      "execution_count": 4,
      "outputs": [
        {
          "output_type": "execute_result",
          "data": {
            "text/plain": [
              "{'a': 10, 'b': [1, 2, 3]}"
            ]
          },
          "metadata": {
            "tags": []
          },
          "execution_count": 4
        }
      ]
    },
    {
      "cell_type": "markdown",
      "metadata": {
        "id": "AuXZ6h9l5o-C"
      },
      "source": [
        "Оператор is проверяет проверяет ссылаются ли две переменные на один объект, оператор == проверяет равенство значений."
      ]
    },
    {
      "cell_type": "code",
      "metadata": {
        "id": "YFAc_vty3Uw9"
      },
      "source": [
        ">>> d = {1:2}\n",
        ">>> c = d\n",
        ">>> e = d.copy()\n",
        ">>> d is c\n",
        "True\n",
        ">>> d is e\n",
        "False\n",
        ">>> d == e\n",
        "True"
      ],
      "execution_count": null,
      "outputs": []
    },
    {
      "cell_type": "markdown",
      "metadata": {
        "id": "mH7upx-T5tLV"
      },
      "source": [
        "С помощью функций модуля copy можно копировать объекты собственных классов:\n",
        "\n"
      ]
    },
    {
      "cell_type": "code",
      "metadata": {
        "colab": {
          "base_uri": "https://localhost:8080/"
        },
        "id": "5qrMxs385zCY",
        "outputId": "fad21a7b-aad8-402e-c553-11fcc7e8899e"
      },
      "source": [
        "import copy\n",
        " \n",
        " \n",
        "class A:\n",
        "    def __init__(self):\n",
        "        self.lst = []\n",
        " \n",
        " \n",
        "a = A()\n",
        "a.lst.append(10)\n",
        " \n",
        "b = copy.copy(a)\n",
        "b.lst[0] = 20\n",
        " \n",
        "print(a.lst, b.lst)\n",
        "print(a is b)\n",
        "print(a)\n",
        "print(b)"
      ],
      "execution_count": 5,
      "outputs": [
        {
          "output_type": "stream",
          "text": [
            "[20] [20]\n",
            "False\n",
            "<__main__.A object at 0x7fce2a24fcf8>\n",
            "<__main__.A object at 0x7fce2a24f550>\n"
          ],
          "name": "stdout"
        }
      ]
    },
    {
      "cell_type": "markdown",
      "metadata": {
        "id": "PEuRnhoiBVM_"
      },
      "source": [
        "### Задачи\n",
        "Создать словарь и копировать его двумя методами, затем с помощью pprint вывести содержимое скопированных словарей"
      ]
    }
  ]
}